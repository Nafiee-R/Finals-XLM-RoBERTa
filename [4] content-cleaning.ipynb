{
 "cells": [
  {
   "cell_type": "code",
   "execution_count": null,
   "id": "daed2912",
   "metadata": {
    "_cell_guid": "b1076dfc-b9ad-4769-8c92-a6c4dae69d19",
    "_uuid": "8f2839f25d086af736a60e9eeb907d3b93b6e0e5",
    "papermill": {
     "duration": 0.01184,
     "end_time": "2024-07-11T17:11:33.646233",
     "exception": false,
     "start_time": "2024-07-11T17:11:33.634393",
     "status": "completed"
    },
    "tags": []
   },
   "outputs": [],
   "source": []
  },
  {
   "cell_type": "code",
   "execution_count": 1,
   "id": "970eaa7c",
   "metadata": {
    "execution": {
     "iopub.execute_input": "2024-07-11T17:11:33.669766Z",
     "iopub.status.busy": "2024-07-11T17:11:33.669339Z",
     "iopub.status.idle": "2024-07-11T17:11:34.797713Z",
     "shell.execute_reply": "2024-07-11T17:11:34.796365Z"
    },
    "papermill": {
     "duration": 1.143478,
     "end_time": "2024-07-11T17:11:34.800524",
     "exception": false,
     "start_time": "2024-07-11T17:11:33.657046",
     "status": "completed"
    },
    "tags": []
   },
   "outputs": [
    {
     "name": "stdout",
     "output_type": "stream",
     "text": [
      "/kaggle/input/satria-data-semifinal/cleaned_df.csv\n"
     ]
    }
   ],
   "source": [
    "import numpy as np # linear algebra\n",
    "import pandas as pd # data processing, CSV file I/O (e.g. pd.read_csv)\n",
    "import os\n",
    "import string\n",
    "import re\n",
    "from IPython.display import display, HTML\n",
    "import os\n",
    "for dirname, _, filenames in os.walk('/kaggle/input'):\n",
    "    for filename in filenames:\n",
    "        print(os.path.join(dirname, filename))\n",
    "\n"
   ]
  },
  {
   "cell_type": "code",
   "execution_count": 2,
   "id": "074d73f1",
   "metadata": {
    "execution": {
     "iopub.execute_input": "2024-07-11T17:11:34.824055Z",
     "iopub.status.busy": "2024-07-11T17:11:34.823512Z",
     "iopub.status.idle": "2024-07-11T17:11:34.830777Z",
     "shell.execute_reply": "2024-07-11T17:11:34.829632Z"
    },
    "papermill": {
     "duration": 0.022066,
     "end_time": "2024-07-11T17:11:34.833426",
     "exception": false,
     "start_time": "2024-07-11T17:11:34.811360",
     "status": "completed"
    },
    "tags": []
   },
   "outputs": [],
   "source": [
    "def create_scrollable_table(df, title):\n",
    "    def format_element(x):\n",
    "        return str(x)\n",
    "\n",
    "    formatted_df = df.applymap(format_element)\n",
    "    df_html = formatted_df.to_html(classes='table table-striped', escape=False, index=False)\n",
    "    html = f\"\"\"\n",
    "    <div style='height:400px; overflow:auto;'>\n",
    "        <h2>{title}</h2>\n",
    "        {df_html}\n",
    "    </div>\n",
    "    \"\"\"\n",
    "    return html"
   ]
  },
  {
   "cell_type": "code",
   "execution_count": 3,
   "id": "c8c7a166",
   "metadata": {
    "execution": {
     "iopub.execute_input": "2024-07-11T17:11:34.856648Z",
     "iopub.status.busy": "2024-07-11T17:11:34.856211Z",
     "iopub.status.idle": "2024-07-11T17:13:33.671013Z",
     "shell.execute_reply": "2024-07-11T17:13:33.669859Z"
    },
    "papermill": {
     "duration": 118.83005,
     "end_time": "2024-07-11T17:13:33.674287",
     "exception": false,
     "start_time": "2024-07-11T17:11:34.844237",
     "status": "completed"
    },
    "tags": []
   },
   "outputs": [],
   "source": [
    "df= pd.read_csv('/kaggle/input/satria-data-semifinal/cleaned_df.csv')"
   ]
  },
  {
   "cell_type": "code",
   "execution_count": 4,
   "id": "a419f30f",
   "metadata": {
    "execution": {
     "iopub.execute_input": "2024-07-11T17:13:33.699363Z",
     "iopub.status.busy": "2024-07-11T17:13:33.698243Z",
     "iopub.status.idle": "2024-07-11T17:13:33.712604Z",
     "shell.execute_reply": "2024-07-11T17:13:33.711235Z"
    },
    "papermill": {
     "duration": 0.029614,
     "end_time": "2024-07-11T17:13:33.715401",
     "exception": false,
     "start_time": "2024-07-11T17:13:33.685787",
     "status": "completed"
    },
    "tags": []
   },
   "outputs": [],
   "source": [
    "# Renaming Columns\n",
    "df.rename(columns={'Unnamed: 0': 'index', 'frn_cnt': 'following', 'flw_cnt': 'followers'}, inplace=True)"
   ]
  },
  {
   "cell_type": "code",
   "execution_count": 5,
   "id": "5978ad86",
   "metadata": {
    "execution": {
     "iopub.execute_input": "2024-07-11T17:13:33.739014Z",
     "iopub.status.busy": "2024-07-11T17:13:33.738595Z",
     "iopub.status.idle": "2024-07-11T17:13:57.411973Z",
     "shell.execute_reply": "2024-07-11T17:13:57.410192Z"
    },
    "papermill": {
     "duration": 23.693346,
     "end_time": "2024-07-11T17:13:57.419578",
     "exception": false,
     "start_time": "2024-07-11T17:13:33.726232",
     "status": "completed"
    },
    "tags": []
   },
   "outputs": [],
   "source": [
    "df = df.fillna(0).astype({'following': 'int', 'followers': 'int','sts_cnt':'int','lst_cnt':'int'})"
   ]
  },
  {
   "cell_type": "code",
   "execution_count": 6,
   "id": "70a1dc8d",
   "metadata": {
    "execution": {
     "iopub.execute_input": "2024-07-11T17:13:57.453549Z",
     "iopub.status.busy": "2024-07-11T17:13:57.451649Z",
     "iopub.status.idle": "2024-07-11T17:13:58.672906Z",
     "shell.execute_reply": "2024-07-11T17:13:58.671564Z"
    },
    "papermill": {
     "duration": 1.241724,
     "end_time": "2024-07-11T17:13:58.676088",
     "exception": false,
     "start_time": "2024-07-11T17:13:57.434364",
     "status": "completed"
    },
    "tags": []
   },
   "outputs": [],
   "source": [
    "sample_df=df[['index','lang','content']].sample(300,random_state=1)"
   ]
  },
  {
   "cell_type": "code",
   "execution_count": 7,
   "id": "e39e3fda",
   "metadata": {
    "execution": {
     "iopub.execute_input": "2024-07-11T17:13:58.701448Z",
     "iopub.status.busy": "2024-07-11T17:13:58.700360Z",
     "iopub.status.idle": "2024-07-11T17:13:58.719391Z",
     "shell.execute_reply": "2024-07-11T17:13:58.717841Z"
    },
    "papermill": {
     "duration": 0.035459,
     "end_time": "2024-07-11T17:13:58.723450",
     "exception": false,
     "start_time": "2024-07-11T17:13:58.687991",
     "status": "completed"
    },
    "tags": []
   },
   "outputs": [
    {
     "name": "stderr",
     "output_type": "stream",
     "text": [
      "/tmp/ipykernel_18/3971259661.py:5: FutureWarning: DataFrame.applymap has been deprecated. Use DataFrame.map instead.\n",
      "  formatted_df = df.applymap(format_element)\n"
     ]
    },
    {
     "data": {
      "text/html": [
       "\n",
       "    <div style='height:400px; overflow:auto;'>\n",
       "        <h2>Preview</h2>\n",
       "        <table border=\"1\" class=\"dataframe table table-striped\">\n",
       "  <thead>\n",
       "    <tr style=\"text-align: right;\">\n",
       "      <th>index</th>\n",
       "      <th>index</th>\n",
       "      <th>lang</th>\n",
       "      <th>content</th>\n",
       "    </tr>\n",
       "  </thead>\n",
       "  <tbody>\n",
       "    <tr>\n",
       "      <td>729347</td>\n",
       "      <td>729347</td>\n",
       "      <td>id</td>\n",
       "      <td>Jawaban brillian. Pak Anies</td>\n",
       "    </tr>\n",
       "    <tr>\n",
       "      <td>9533051</td>\n",
       "      <td>9533051</td>\n",
       "      <td>id</td>\n",
       "      <td>Ganjar Pranowo sama Mahfud MD itu kayak duo pahlawan kita, deh! Yuk, rame-rame pake hashtag #JNKBersamaGanjarMahfud buat tunjukin dukungan kita. #JNK</td>\n",
       "    </tr>\n",
       "    <tr>\n",
       "      <td>7925926</td>\n",
       "      <td>7925926</td>\n",
       "      <td>id</td>\n",
       "      <td>Pengen kritik, malem-malem pengen kritik si anies ah. bosen juga nyanjung-nyanjung, berikut kelemahan Anies secara objektif.</td>\n",
       "    </tr>\n",
       "    <tr>\n",
       "      <td>2141021</td>\n",
       "      <td>2141021</td>\n",
       "      <td>id</td>\n",
       "      <td>Abah Anies adalah AbahNya Semua Golongan , Agama , Suku dan Seluruh Rakyat Indonesia !</td>\n",
       "    </tr>\n",
       "    <tr>\n",
       "      <td>3189808</td>\n",
       "      <td>3189808</td>\n",
       "      <td>id</td>\n",
       "      <td><mentionstart> <mentionmiddle> <mentionmiddle> <mentionmiddle> mas,rakyat wadas itu jelas dibela sama Pak Ganjar,bantuan2 semua sudah turun,beliau datang langsung ke wadas untuk berani bertanggung jawab atas PROYEK NASIONAL. Beliau juga pernah membatalkan Pabrik Emas yang ada di wonogiri,ini ga pernah di UP dipublik</td>\n",
       "    </tr>\n",
       "  </tbody>\n",
       "</table>\n",
       "    </div>\n",
       "    "
      ],
      "text/plain": [
       "<IPython.core.display.HTML object>"
      ]
     },
     "metadata": {},
     "output_type": "display_data"
    }
   ],
   "source": [
    "sample_df_html = create_scrollable_table(sample_df.head(),'Preview')\n",
    "display(HTML(sample_df_html))"
   ]
  },
  {
   "cell_type": "markdown",
   "id": "14866765",
   "metadata": {
    "papermill": {
     "duration": 0.012826,
     "end_time": "2024-07-11T17:13:58.747668",
     "exception": false,
     "start_time": "2024-07-11T17:13:58.734842",
     "status": "completed"
    },
    "tags": []
   },
   "source": [
    "#  Cleaning Phase 1\n",
    "- Remove URL\n",
    "- Remove RT\n",
    "- Extracting Reply\n",
    "- Extracting Mention\n",
    "- Extracting Hashtag"
   ]
  },
  {
   "cell_type": "code",
   "execution_count": 8,
   "id": "a03a0f8a",
   "metadata": {
    "execution": {
     "iopub.execute_input": "2024-07-11T17:13:58.773190Z",
     "iopub.status.busy": "2024-07-11T17:13:58.772743Z",
     "iopub.status.idle": "2024-07-11T17:13:58.779151Z",
     "shell.execute_reply": "2024-07-11T17:13:58.777921Z"
    },
    "papermill": {
     "duration": 0.022581,
     "end_time": "2024-07-11T17:13:58.782023",
     "exception": false,
     "start_time": "2024-07-11T17:13:58.759442",
     "status": "completed"
    },
    "tags": []
   },
   "outputs": [],
   "source": [
    "# Function to preprocess text\n",
    "def preprocess_text(text):\n",
    "    # Remove URLs\n",
    "    text = re.sub(r'http\\S+|www.\\S+', '', text)\n",
    "    # Remove 'RT'\n",
    "    text = re.sub(r'\\bRT\\b', '', text)\n",
    "    return text"
   ]
  },
  {
   "cell_type": "code",
   "execution_count": 9,
   "id": "29cb05ee",
   "metadata": {
    "execution": {
     "iopub.execute_input": "2024-07-11T17:13:58.806993Z",
     "iopub.status.busy": "2024-07-11T17:13:58.806544Z",
     "iopub.status.idle": "2024-07-11T17:13:58.823489Z",
     "shell.execute_reply": "2024-07-11T17:13:58.822222Z"
    },
    "papermill": {
     "duration": 0.032196,
     "end_time": "2024-07-11T17:13:58.826036",
     "exception": false,
     "start_time": "2024-07-11T17:13:58.793840",
     "status": "completed"
    },
    "tags": []
   },
   "outputs": [],
   "source": [
    "sample_df['clean_content']=sample_df['content'].apply(preprocess_text)"
   ]
  },
  {
   "cell_type": "code",
   "execution_count": 10,
   "id": "0e7cabb7",
   "metadata": {
    "execution": {
     "iopub.execute_input": "2024-07-11T17:13:58.850441Z",
     "iopub.status.busy": "2024-07-11T17:13:58.849967Z",
     "iopub.status.idle": "2024-07-11T17:13:58.862445Z",
     "shell.execute_reply": "2024-07-11T17:13:58.861112Z"
    },
    "papermill": {
     "duration": 0.027677,
     "end_time": "2024-07-11T17:13:58.864958",
     "exception": false,
     "start_time": "2024-07-11T17:13:58.837281",
     "status": "completed"
    },
    "tags": []
   },
   "outputs": [],
   "source": [
    "# Function to extract reply tokens\n",
    "def extract_reply_tokens(text):\n",
    "    reply_tokens = re.findall(r'\\[re \\w+\\]', text.lower())  # Extract reply tokens in lowercase\n",
    "    return ', '.join(reply_tokens)\n",
    "\n",
    "# Apply extraction\n",
    "sample_df['reply_tokens'] = sample_df['clean_content'].apply(extract_reply_tokens)\n",
    "\n",
    "# Remove reply tokens from clean_content\n",
    "sample_df['clean_content'] = sample_df['clean_content'].apply(lambda x: re.sub(r'\\[re \\w+\\]', '', x,flags=re.IGNORECASE))"
   ]
  },
  {
   "cell_type": "code",
   "execution_count": 11,
   "id": "31b98c50",
   "metadata": {
    "execution": {
     "iopub.execute_input": "2024-07-11T17:13:58.889685Z",
     "iopub.status.busy": "2024-07-11T17:13:58.889289Z",
     "iopub.status.idle": "2024-07-11T17:13:58.908988Z",
     "shell.execute_reply": "2024-07-11T17:13:58.907589Z"
    },
    "papermill": {
     "duration": 0.034874,
     "end_time": "2024-07-11T17:13:58.911572",
     "exception": false,
     "start_time": "2024-07-11T17:13:58.876698",
     "status": "completed"
    },
    "tags": []
   },
   "outputs": [
    {
     "name": "stderr",
     "output_type": "stream",
     "text": [
      "/tmp/ipykernel_18/3971259661.py:5: FutureWarning: DataFrame.applymap has been deprecated. Use DataFrame.map instead.\n",
      "  formatted_df = df.applymap(format_element)\n"
     ]
    },
    {
     "data": {
      "text/html": [
       "\n",
       "    <div style='height:400px; overflow:auto;'>\n",
       "        <h2>Reply Token Frequency Analysis</h2>\n",
       "        <table border=\"1\" class=\"dataframe table table-striped\">\n",
       "  <thead>\n",
       "    <tr style=\"text-align: right;\">\n",
       "      <th>reply_token</th>\n",
       "      <th>count</th>\n",
       "    </tr>\n",
       "  </thead>\n",
       "  <tbody>\n",
       "    <tr>\n",
       "      <td></td>\n",
       "      <td>300</td>\n",
       "    </tr>\n",
       "  </tbody>\n",
       "</table>\n",
       "    </div>\n",
       "    "
      ],
      "text/plain": [
       "<IPython.core.display.HTML object>"
      ]
     },
     "metadata": {},
     "output_type": "display_data"
    }
   ],
   "source": [
    "# Count the frequency of each reply token\n",
    "reply_token_counts = sample_df['reply_tokens'].value_counts().reset_index()\n",
    "reply_token_counts.columns = ['reply_token', 'count']\n",
    "\n",
    "# Display frequency analysis of reply tokens\n",
    "debug_html_reply_tokens = create_scrollable_table(reply_token_counts.head(), 'Reply Token Frequency Analysis')\n",
    "display(HTML(debug_html_reply_tokens))"
   ]
  },
  {
   "cell_type": "code",
   "execution_count": 12,
   "id": "c964d7f1",
   "metadata": {
    "execution": {
     "iopub.execute_input": "2024-07-11T17:13:58.936865Z",
     "iopub.status.busy": "2024-07-11T17:13:58.936445Z",
     "iopub.status.idle": "2024-07-11T17:13:58.945705Z",
     "shell.execute_reply": "2024-07-11T17:13:58.944483Z"
    },
    "papermill": {
     "duration": 0.025212,
     "end_time": "2024-07-11T17:13:58.948484",
     "exception": false,
     "start_time": "2024-07-11T17:13:58.923272",
     "status": "completed"
    },
    "tags": []
   },
   "outputs": [],
   "source": [
    "# Function to extract mentions\n",
    "def extract_mentions(text):\n",
    "    mentions = re.findall(r'@\\S+=', text)  # Extract mentions\n",
    "    return ', '.join(mentions)\n",
    "\n",
    "# Function to handle mentions by replacing them with positional tokens\n",
    "def handle_mentions(text):\n",
    "    words = text.split()\n",
    "    tagged_words = []\n",
    "    \n",
    "    for i, word in enumerate(words):\n",
    "        if re.match(r'@\\S+=', word):\n",
    "            if i == 0:\n",
    "                tagged_words.append('')\n",
    "            elif i == len(words) - 1:\n",
    "                tagged_words.append('')\n",
    "            else:\n",
    "                tagged_words.append('')\n",
    "        else:\n",
    "            tagged_words.append(word)\n",
    "    \n",
    "    return ' '.join(tagged_words)"
   ]
  },
  {
   "cell_type": "code",
   "execution_count": 13,
   "id": "bc0e332a",
   "metadata": {
    "execution": {
     "iopub.execute_input": "2024-07-11T17:13:58.974477Z",
     "iopub.status.busy": "2024-07-11T17:13:58.974047Z",
     "iopub.status.idle": "2024-07-11T17:13:58.999056Z",
     "shell.execute_reply": "2024-07-11T17:13:58.997859Z"
    },
    "papermill": {
     "duration": 0.043474,
     "end_time": "2024-07-11T17:13:59.003519",
     "exception": false,
     "start_time": "2024-07-11T17:13:58.960045",
     "status": "completed"
    },
    "tags": []
   },
   "outputs": [],
   "source": [
    "# Apply extraction\n",
    "sample_df['mentions'] = sample_df['clean_content'].apply(extract_mentions)\n",
    "sample_df['mentions'] = sample_df['mentions'].apply(lambda x: x.split(', ') if x else [])\n",
    "\n",
    "#Tokenize mention\n",
    "sample_df['clean_content'] = sample_df['clean_content'].apply(handle_mentions)"
   ]
  },
  {
   "cell_type": "code",
   "execution_count": 14,
   "id": "58799462",
   "metadata": {
    "execution": {
     "iopub.execute_input": "2024-07-11T17:13:59.028274Z",
     "iopub.status.busy": "2024-07-11T17:13:59.027824Z",
     "iopub.status.idle": "2024-07-11T17:13:59.033029Z",
     "shell.execute_reply": "2024-07-11T17:13:59.031807Z"
    },
    "papermill": {
     "duration": 0.02057,
     "end_time": "2024-07-11T17:13:59.035662",
     "exception": false,
     "start_time": "2024-07-11T17:13:59.015092",
     "status": "completed"
    },
    "tags": []
   },
   "outputs": [],
   "source": [
    "# Debug\n",
    "#pd.set_option('display.max_colwidth', None)\n",
    "#print(sample_df[['content','clean_content']])"
   ]
  },
  {
   "cell_type": "code",
   "execution_count": 15,
   "id": "61a2d643",
   "metadata": {
    "execution": {
     "iopub.execute_input": "2024-07-11T17:13:59.061237Z",
     "iopub.status.busy": "2024-07-11T17:13:59.060824Z",
     "iopub.status.idle": "2024-07-11T17:13:59.067379Z",
     "shell.execute_reply": "2024-07-11T17:13:59.066201Z"
    },
    "papermill": {
     "duration": 0.021996,
     "end_time": "2024-07-11T17:13:59.069986",
     "exception": false,
     "start_time": "2024-07-11T17:13:59.047990",
     "status": "completed"
    },
    "tags": []
   },
   "outputs": [],
   "source": [
    "def extract_hashtags(text):\n",
    "    hashtags = re.findall(r'#\\w+', text)\n",
    "    cleaned_hashtags = [re.sub(r'[^a-zA-Z0-9]', '', hashtag[1:]) for hashtag in hashtags]  # Remove the '#' and clean special characters\n",
    "    return cleaned_hashtags"
   ]
  },
  {
   "cell_type": "code",
   "execution_count": 16,
   "id": "b524201e",
   "metadata": {
    "execution": {
     "iopub.execute_input": "2024-07-11T17:13:59.095026Z",
     "iopub.status.busy": "2024-07-11T17:13:59.094646Z",
     "iopub.status.idle": "2024-07-11T17:13:59.104238Z",
     "shell.execute_reply": "2024-07-11T17:13:59.102754Z"
    },
    "papermill": {
     "duration": 0.025533,
     "end_time": "2024-07-11T17:13:59.106955",
     "exception": false,
     "start_time": "2024-07-11T17:13:59.081422",
     "status": "completed"
    },
    "tags": []
   },
   "outputs": [],
   "source": [
    "# Extract Hashtags into columns first\n",
    "sample_df['hashtags'] = sample_df['clean_content'].apply(extract_hashtags)"
   ]
  },
  {
   "cell_type": "code",
   "execution_count": 17,
   "id": "01be10aa",
   "metadata": {
    "execution": {
     "iopub.execute_input": "2024-07-11T17:13:59.134078Z",
     "iopub.status.busy": "2024-07-11T17:13:59.133684Z",
     "iopub.status.idle": "2024-07-11T17:13:59.139401Z",
     "shell.execute_reply": "2024-07-11T17:13:59.138020Z"
    },
    "papermill": {
     "duration": 0.023561,
     "end_time": "2024-07-11T17:13:59.141919",
     "exception": false,
     "start_time": "2024-07-11T17:13:59.118358",
     "status": "completed"
    },
    "tags": []
   },
   "outputs": [],
   "source": [
    "# DEBUG\n",
    "# Set pandas display options to show all text\n",
    "#pd.set_option('display.max_colwidth', None)\n",
    "\n",
    "# TO CHECK THE SPECIAL TOKEN\n",
    "# Check the resulting DataFrame to ensure mentions and hashtags are handled correctly\n",
    "#print(sample_df[['content', 'clean_content', 'hashtags']].head(5))\n",
    "\n",
    "# TO CHECK EXTRACTION, NOTES: IDK WHY IT'S DOESN'T SHOW THE SPECIAL TOKEN\n",
    "#debug_html = create_scrollable_table(sample_df, 'Mention Frequency Analysis')\n",
    "#display(HTML(debug_html))"
   ]
  },
  {
   "cell_type": "code",
   "execution_count": 18,
   "id": "9b26a3e4",
   "metadata": {
    "execution": {
     "iopub.execute_input": "2024-07-11T17:13:59.166952Z",
     "iopub.status.busy": "2024-07-11T17:13:59.166581Z",
     "iopub.status.idle": "2024-07-11T17:13:59.171698Z",
     "shell.execute_reply": "2024-07-11T17:13:59.170524Z"
    },
    "papermill": {
     "duration": 0.020493,
     "end_time": "2024-07-11T17:13:59.174249",
     "exception": false,
     "start_time": "2024-07-11T17:13:59.153756",
     "status": "completed"
    },
    "tags": []
   },
   "outputs": [],
   "source": [
    "# Check the resulting DataFrame to ensure mentions and hashtags are handled correctly\n",
    "# print(sample_df['clean_content'].head(20))"
   ]
  },
  {
   "cell_type": "markdown",
   "id": "d1ed50dc",
   "metadata": {
    "papermill": {
     "duration": 0.011781,
     "end_time": "2024-07-11T17:13:59.198263",
     "exception": false,
     "start_time": "2024-07-11T17:13:59.186482",
     "status": "completed"
    },
    "tags": []
   },
   "source": [
    "# Cleaning Phase 2\n",
    "- Special Character"
   ]
  },
  {
   "cell_type": "code",
   "execution_count": 19,
   "id": "b156983d",
   "metadata": {
    "execution": {
     "iopub.execute_input": "2024-07-11T17:13:59.222593Z",
     "iopub.status.busy": "2024-07-11T17:13:59.222144Z",
     "iopub.status.idle": "2024-07-11T17:13:59.228133Z",
     "shell.execute_reply": "2024-07-11T17:13:59.226990Z"
    },
    "papermill": {
     "duration": 0.021185,
     "end_time": "2024-07-11T17:13:59.230749",
     "exception": false,
     "start_time": "2024-07-11T17:13:59.209564",
     "status": "completed"
    },
    "tags": []
   },
   "outputs": [],
   "source": [
    "# Do not remove hashtag, punctuation, hyphen\n",
    "def handle_special_characters(text):\n",
    "    text = re.sub(r'[^a-zA-Z0-9\\s.,!?;:<>#-]', '', text)\n",
    "    return text"
   ]
  },
  {
   "cell_type": "code",
   "execution_count": 20,
   "id": "d10517f0",
   "metadata": {
    "execution": {
     "iopub.execute_input": "2024-07-11T17:13:59.255773Z",
     "iopub.status.busy": "2024-07-11T17:13:59.255371Z",
     "iopub.status.idle": "2024-07-11T17:13:59.264597Z",
     "shell.execute_reply": "2024-07-11T17:13:59.263365Z"
    },
    "papermill": {
     "duration": 0.024913,
     "end_time": "2024-07-11T17:13:59.267524",
     "exception": false,
     "start_time": "2024-07-11T17:13:59.242611",
     "status": "completed"
    },
    "tags": []
   },
   "outputs": [],
   "source": [
    "sample_df['clean_content'] = sample_df['clean_content'].apply(handle_special_characters)"
   ]
  },
  {
   "cell_type": "code",
   "execution_count": 21,
   "id": "2925c64c",
   "metadata": {
    "execution": {
     "iopub.execute_input": "2024-07-11T17:13:59.292278Z",
     "iopub.status.busy": "2024-07-11T17:13:59.291834Z",
     "iopub.status.idle": "2024-07-11T17:13:59.297978Z",
     "shell.execute_reply": "2024-07-11T17:13:59.296584Z"
    },
    "papermill": {
     "duration": 0.021835,
     "end_time": "2024-07-11T17:13:59.300791",
     "exception": false,
     "start_time": "2024-07-11T17:13:59.278956",
     "status": "completed"
    },
    "tags": []
   },
   "outputs": [],
   "source": [
    "# Check the resulting DataFrame to ensure mentions and hashtags are handled correctly\n",
    "#print(sample_df['clean_content'].head(20))"
   ]
  },
  {
   "cell_type": "code",
   "execution_count": 22,
   "id": "4a0bd8ab",
   "metadata": {
    "execution": {
     "iopub.execute_input": "2024-07-11T17:13:59.325790Z",
     "iopub.status.busy": "2024-07-11T17:13:59.325005Z",
     "iopub.status.idle": "2024-07-11T17:13:59.331539Z",
     "shell.execute_reply": "2024-07-11T17:13:59.330414Z"
    },
    "papermill": {
     "duration": 0.021924,
     "end_time": "2024-07-11T17:13:59.334121",
     "exception": false,
     "start_time": "2024-07-11T17:13:59.312197",
     "status": "completed"
    },
    "tags": []
   },
   "outputs": [],
   "source": [
    "# Normalize excessive punctuation\n",
    "def normalize_punctuation(text):\n",
    "    # Replace multiple exclamation marks with a single one\n",
    "    text = re.sub(r'!{2,}', '!', text)\n",
    "    # Replace multiple question marks with a single one\n",
    "    text = re.sub(r'\\?{2,}', '?', text)\n",
    "    # Replace multiple periods with a single one\n",
    "    text = re.sub(r'\\.{2,}', '.', text)\n",
    "    return text"
   ]
  },
  {
   "cell_type": "code",
   "execution_count": 23,
   "id": "1e7ddd6b",
   "metadata": {
    "execution": {
     "iopub.execute_input": "2024-07-11T17:13:59.359305Z",
     "iopub.status.busy": "2024-07-11T17:13:59.358327Z",
     "iopub.status.idle": "2024-07-11T17:13:59.371868Z",
     "shell.execute_reply": "2024-07-11T17:13:59.370671Z"
    },
    "papermill": {
     "duration": 0.029195,
     "end_time": "2024-07-11T17:13:59.374653",
     "exception": false,
     "start_time": "2024-07-11T17:13:59.345458",
     "status": "completed"
    },
    "tags": []
   },
   "outputs": [],
   "source": [
    "sample_df['clean_content'] = sample_df['clean_content'].apply(normalize_punctuation)"
   ]
  },
  {
   "cell_type": "code",
   "execution_count": 24,
   "id": "bbb8d56c",
   "metadata": {
    "execution": {
     "iopub.execute_input": "2024-07-11T17:13:59.399516Z",
     "iopub.status.busy": "2024-07-11T17:13:59.399093Z",
     "iopub.status.idle": "2024-07-11T17:13:59.404563Z",
     "shell.execute_reply": "2024-07-11T17:13:59.403397Z"
    },
    "papermill": {
     "duration": 0.02108,
     "end_time": "2024-07-11T17:13:59.407141",
     "exception": false,
     "start_time": "2024-07-11T17:13:59.386061",
     "status": "completed"
    },
    "tags": []
   },
   "outputs": [],
   "source": [
    "# Check the resulting DataFrame to ensure mentions and hashtags are handled correctly\n",
    "#print(sample_df['clean_content'].head(3))\n",
    "\n",
    "#debug_html= create_scrollable_table(sample_df, 'Debug Purpose')\n",
    "#display(HTML(debug_html))"
   ]
  },
  {
   "cell_type": "code",
   "execution_count": 25,
   "id": "b05f4b80",
   "metadata": {
    "execution": {
     "iopub.execute_input": "2024-07-11T17:13:59.433298Z",
     "iopub.status.busy": "2024-07-11T17:13:59.432845Z",
     "iopub.status.idle": "2024-07-11T17:13:59.437870Z",
     "shell.execute_reply": "2024-07-11T17:13:59.436554Z"
    },
    "papermill": {
     "duration": 0.021409,
     "end_time": "2024-07-11T17:13:59.440448",
     "exception": false,
     "start_time": "2024-07-11T17:13:59.419039",
     "status": "completed"
    },
    "tags": []
   },
   "outputs": [],
   "source": [
    "#mentions_exploded = sample_df.explode('mentions')\n",
    "#mention_counts = mentions_exploded['mentions'].value_counts().reset_index()\n",
    "#mention_counts.columns = ['mention', 'count']"
   ]
  },
  {
   "cell_type": "code",
   "execution_count": 26,
   "id": "af847c28",
   "metadata": {
    "execution": {
     "iopub.execute_input": "2024-07-11T17:13:59.465410Z",
     "iopub.status.busy": "2024-07-11T17:13:59.464952Z",
     "iopub.status.idle": "2024-07-11T17:13:59.470055Z",
     "shell.execute_reply": "2024-07-11T17:13:59.468738Z"
    },
    "papermill": {
     "duration": 0.020622,
     "end_time": "2024-07-11T17:13:59.472679",
     "exception": false,
     "start_time": "2024-07-11T17:13:59.452057",
     "status": "completed"
    },
    "tags": []
   },
   "outputs": [],
   "source": [
    "#debug_html_mentions = create_scrollable_table(mention_counts, 'Mention Frequency Analysis')\n",
    "#display(HTML(debug_html_mentions))"
   ]
  },
  {
   "cell_type": "markdown",
   "id": "6bb0f5e2",
   "metadata": {
    "papermill": {
     "duration": 0.011218,
     "end_time": "2024-07-11T17:13:59.495434",
     "exception": false,
     "start_time": "2024-07-11T17:13:59.484216",
     "status": "completed"
    },
    "tags": []
   },
   "source": [
    "# Now let's clean the main data!"
   ]
  },
  {
   "cell_type": "code",
   "execution_count": 27,
   "id": "187cf2db",
   "metadata": {
    "execution": {
     "iopub.execute_input": "2024-07-11T17:13:59.521003Z",
     "iopub.status.busy": "2024-07-11T17:13:59.520016Z",
     "iopub.status.idle": "2024-07-11T17:13:59.528810Z",
     "shell.execute_reply": "2024-07-11T17:13:59.527275Z"
    },
    "papermill": {
     "duration": 0.024801,
     "end_time": "2024-07-11T17:13:59.531791",
     "exception": false,
     "start_time": "2024-07-11T17:13:59.506990",
     "status": "completed"
    },
    "tags": []
   },
   "outputs": [],
   "source": [
    "import time\n",
    "# Time tracking decorator\n",
    "def time_tracker(func):\n",
    "    def wrapper(*args, **kwargs):\n",
    "        start_time = time.time()\n",
    "        result = func(*args, **kwargs)\n",
    "        end_time = time.time()\n",
    "        elapsed_time = end_time - start_time\n",
    "        row_count = len(args[0])\n",
    "        rows_per_sec = row_count / elapsed_time if elapsed_time > 0 else float('inf')\n",
    "        print(f\"{func.__name__} took {elapsed_time:.4f} seconds, {rows_per_sec:.2f} rows/sec\")\n",
    "        return result\n",
    "    return wrapper"
   ]
  },
  {
   "cell_type": "code",
   "execution_count": 28,
   "id": "a66e4764",
   "metadata": {
    "execution": {
     "iopub.execute_input": "2024-07-11T17:13:59.557346Z",
     "iopub.status.busy": "2024-07-11T17:13:59.556881Z",
     "iopub.status.idle": "2024-07-11T17:13:59.571938Z",
     "shell.execute_reply": "2024-07-11T17:13:59.570626Z"
    },
    "papermill": {
     "duration": 0.031373,
     "end_time": "2024-07-11T17:13:59.574785",
     "exception": false,
     "start_time": "2024-07-11T17:13:59.543412",
     "status": "completed"
    },
    "tags": []
   },
   "outputs": [],
   "source": [
    "from functools import lru_cache #Speed go brrrrrr Memory go \"why do i exist just to suffer\"\n",
    "# Preprocess text\n",
    "@lru_cache(maxsize=500000)\n",
    "def preprocess_text_cached(text):\n",
    "    return preprocess_text(text)\n",
    "\n",
    "@lru_cache(maxsize=500000)\n",
    "def extract_reply_tokens_cached(text):\n",
    "    return extract_reply_tokens(text)\n",
    "\n",
    "@lru_cache(maxsize=500)\n",
    "def handle_mentions_cached(text):\n",
    "    return handle_mentions(text)\n",
    "\n",
    "@lru_cache(maxsize=500)\n",
    "def extract_mentions_cached(text):\n",
    "    return extract_mentions(text)\n",
    "\n",
    "@lru_cache(maxsize=500000)\n",
    "def extract_hashtags_cached(text):\n",
    "    return extract_hashtags(text)\n",
    "\n",
    "@lru_cache(maxsize=500000)\n",
    "def handle_special_characters_cached(text):\n",
    "    return handle_special_characters(text)\n",
    "\n",
    "@lru_cache(maxsize=500000)\n",
    "def normalize_punctuation_cached(text):\n",
    "    return normalize_punctuation(text)\n",
    "\n",
    "@time_tracker\n",
    "def clean_text_pipeline(df):\n",
    "    # Preprocess text\n",
    "    df['content'] = df['content'].apply(preprocess_text_cached)\n",
    "    \n",
    "    # Extract and handle reply tokens\n",
    "    df['reply_tokens'] = df['content'].apply(extract_reply_tokens_cached)\n",
    "    df['content'] = df['content'].str.replace(r'\\[re \\w+\\]', '', regex=True, case=False)\n",
    "    \n",
    "    # Extract and handle mentions\n",
    "    df['mentions'] = df['content'].apply(extract_mentions_cached)\n",
    "    df['content'] = df['content'].apply(handle_mentions_cached)\n",
    "    \n",
    "    # Extract hashtags\n",
    "    df['hashtags'] = df['content'].apply(extract_hashtags_cached)\n",
    "    \n",
    "    # Handle special characters and normalize punctuation\n",
    "    df['content'] = df['content'].apply(handle_special_characters_cached)\n",
    "    df['content'] = df['content'].apply(normalize_punctuation_cached)\n",
    "    return df\n"
   ]
  },
  {
   "cell_type": "code",
   "execution_count": 29,
   "id": "7b55fae4",
   "metadata": {
    "execution": {
     "iopub.execute_input": "2024-07-11T17:13:59.599815Z",
     "iopub.status.busy": "2024-07-11T17:13:59.599382Z",
     "iopub.status.idle": "2024-07-11T17:23:44.290811Z",
     "shell.execute_reply": "2024-07-11T17:23:44.289231Z"
    },
    "papermill": {
     "duration": 584.707724,
     "end_time": "2024-07-11T17:23:44.294103",
     "exception": false,
     "start_time": "2024-07-11T17:13:59.586379",
     "status": "completed"
    },
    "tags": []
   },
   "outputs": [
    {
     "name": "stdout",
     "output_type": "stream",
     "text": [
      "clean_text_pipeline took 334.5838 seconds, 29341.99 rows/sec\n"
     ]
    }
   ],
   "source": [
    "test = df.copy()\n",
    "testing = test\n",
    "cleaned_df = clean_text_pipeline(testing)\n",
    "cleaned_df.to_csv(\"cleaned_df.csv\",index=True)"
   ]
  }
 ],
 "metadata": {
  "kaggle": {
   "accelerator": "none",
   "dataSources": [
    {
     "datasetId": 5265172,
     "sourceId": 8833866,
     "sourceType": "datasetVersion"
    }
   ],
   "dockerImageVersionId": 30732,
   "isGpuEnabled": false,
   "isInternetEnabled": true,
   "language": "python",
   "sourceType": "notebook"
  },
  "kernelspec": {
   "display_name": "Python 3",
   "language": "python",
   "name": "python3"
  },
  "language_info": {
   "codemirror_mode": {
    "name": "ipython",
    "version": 3
   },
   "file_extension": ".py",
   "mimetype": "text/x-python",
   "name": "python",
   "nbconvert_exporter": "python",
   "pygments_lexer": "ipython3",
   "version": "3.10.13"
  },
  "papermill": {
   "default_parameters": {},
   "duration": 736.92875,
   "end_time": "2024-07-11T17:23:47.331950",
   "environment_variables": {},
   "exception": null,
   "input_path": "__notebook__.ipynb",
   "output_path": "__notebook__.ipynb",
   "parameters": {},
   "start_time": "2024-07-11T17:11:30.403200",
   "version": "2.5.0"
  }
 },
 "nbformat": 4,
 "nbformat_minor": 5
}
